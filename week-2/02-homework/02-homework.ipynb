{
  "cells": [
    {
      "cell_type": "markdown",
      "metadata": {
        "id": "NvgigYf3lYuT"
      },
      "source": [
        "# Homework: Advanced Conditional Logic"
      ]
    },
    {
      "cell_type": "markdown",
      "metadata": {
        "id": "RiwpvkrhlYuU"
      },
      "source": [
        "## **Submission Guidelines**"
      ]
    },
    {
      "cell_type": "markdown",
      "metadata": {
        "id": "nyQlQFrSlYuU"
      },
      "source": [
        "* Focus on completing Exercises 1–4; Exercise 5 is a stretch challenge.\n",
        "* Submit your by copy and pasting each exercise into the text submission box for this assessment in brightspace\n",
        "* Clearly label each exercise and include comments to explain your logic."
      ]
    },
    {
      "cell_type": "code",
      "execution_count": null,
      "metadata": {
        "id": "7fpw9xUglYuV"
      },
      "outputs": [],
      "source": []
    },
    {
      "cell_type": "markdown",
      "metadata": {
        "id": "edPnfnUXlYuV"
      },
      "source": [
        "\n",
        "\n",
        "## Instructions"
      ]
    },
    {
      "cell_type": "markdown",
      "metadata": {
        "id": "ALh1DZ-mlYuV"
      },
      "source": [
        "\n",
        "Copy this Jupyter Notebook and complete each exercise in the provided spaces.  \n",
        "\n",
        "- Clearly label each exercise and include comments explaining your logic.  \n",
        "- Focus on completing Exercises 1–4; Exercise 5 is a stretch challenge.\n",
        "- Modify the predefined variables as needed to test different cases.  \n",
        "\n",
        "**Remember to start with the English steps, write pseudocode, then write code.**"
      ]
    },
    {
      "cell_type": "markdown",
      "metadata": {
        "id": "YjP6aDdGlYuV"
      },
      "source": [
        "## **Exercise 1: Multi-Condition Decisions**"
      ]
    },
    {
      "cell_type": "markdown",
      "metadata": {
        "id": "vLVaSlJFlYuV"
      },
      "source": [
        "\n",
        "A **movie rating system** follows these rules:\n",
        "   - If `age` is **less than 13**, print `\"PG movies only\"`.\n",
        "   - If `age` is **between 13 and 17**, print `\"PG-13 movies allowed\"`.\n",
        "   - Otherwise, print `\"All movies allowed\"`."
      ]
    },
    {
      "cell_type": "code",
      "execution_count": 28,
      "metadata": {
        "id": "IloKeSUVlYuV",
        "outputId": "d2e08a9c-97ac-4d88-e548-cc6b2a5c6ea1",
        "colab": {
          "base_uri": "https://localhost:8080/"
        }
      },
      "outputs": [
        {
          "output_type": "stream",
          "name": "stdout",
          "text": [
            "PG movies only\n"
          ]
        }
      ],
      "source": [
        "# Exercise 1\n",
        "age = 10 # Change this value to test\n",
        "# Your logic here\n",
        "\n",
        "if age < 13:\n",
        "    print('PG movies only')\n",
        "elif age >=13 and age <= 17:\n",
        "    print('PG-13 movies allowed')\n",
        "else:\n",
        "    print('All movies allowed')\n"
      ]
    },
    {
      "cell_type": "markdown",
      "metadata": {
        "id": "HbgG4ymtlYuW"
      },
      "source": [
        "## **Exercise 2: Decision Tree for Discounts**"
      ]
    },
    {
      "cell_type": "markdown",
      "metadata": {
        "id": "DdDkOnRXlYuW"
      },
      "source": [
        "\n",
        "A **discount system** follows these rules:\n",
        "- If `is_student` is `True`, apply a 20% discount.\n",
        "- If `age` is **65 or older**, apply a 15% discount.\n",
        "- If both conditions are met, apply the higher discount only."
      ]
    },
    {
      "cell_type": "code",
      "execution_count": 32,
      "metadata": {
        "id": "O8ubjLOClYuW",
        "outputId": "5d4494fc-c215-428b-91b6-cad2971109d7",
        "colab": {
          "base_uri": "https://localhost:8080/"
        }
      },
      "outputs": [
        {
          "output_type": "stream",
          "name": "stdout",
          "text": [
            "No discount\n"
          ]
        }
      ],
      "source": [
        "# Exercise 2\n",
        "is_student = False  # Change this value to test\n",
        "age = 30 # Change this value to test\n",
        "\n",
        "# Your logic here\n",
        "if is_student == True :\n",
        "  print('20% discount')\n",
        "elif age >= 65:\n",
        "  print('15% discount')\n",
        "else:\n",
        "  print('No discount')\n"
      ]
    },
    {
      "cell_type": "markdown",
      "metadata": {
        "id": "4hP2m6-plYuW"
      },
      "source": [
        "\n",
        "## **Exercise 3: Loan Approval System**"
      ]
    },
    {
      "cell_type": "markdown",
      "metadata": {
        "id": "yHmqLiEvlYuW"
      },
      "source": [
        "\n",
        "A **loan approval system** follows these rules:\n",
        "- Applicant **must be at least 18**.\n",
        "- Loan is **approved** if `income` is over **40k** OR `credit_score` is above **700**.\n",
        "- If the applicant has `has_debt = True`, then **both** conditions are required."
      ]
    },
    {
      "cell_type": "code",
      "execution_count": 54,
      "metadata": {
        "id": "ws_Fu5ezlYuW",
        "outputId": "30095b9b-98cb-4f92-c8e0-457a9fe59a3a",
        "colab": {
          "base_uri": "https://localhost:8080/"
        }
      },
      "outputs": [
        {
          "output_type": "stream",
          "name": "stdout",
          "text": [
            "Loan not approved because of debt\n"
          ]
        }
      ],
      "source": [
        "# Exercise 3\n",
        "age = 20  # Change this value to test\n",
        "income = 45000  # Change this value to test\n",
        "credit_score = 700  # Change this value to test\n",
        "has_debt = False # Change this value to test\n",
        "\n",
        "# Your logic here\n",
        "if age >=18 and (income > 40000 or credit_score > 700)  and has_debt == True:\n",
        "  print('Loan approved')\n",
        "elif age < 18:\n",
        "  print('Loan not approved because of underage')\n",
        "elif income < 40000 and credit_score < 700:\n",
        "    print('Loan not approved because of income and credit score')\n",
        "else:\n",
        "    print('Loan not approved because of debt')\n",
        "\n",
        "\n"
      ]
    },
    {
      "cell_type": "code",
      "source": [
        "# Exercise 3 (solution 2)\n",
        "age = 20  # Change this value to test\n",
        "income = 4500  # Change this value to test\n",
        "credit_score = 701 # Change this value to test\n",
        "has_debt = True # Change this value to test\n",
        "\n",
        "if age >=18:\n",
        "  if income > 40000 or credit_score > 700:\n",
        "    if has_debt == True:\n",
        "      print('Loan approved')\n",
        "    else:\n",
        "      print('Loan not approved because of debt')\n",
        "  else:\n",
        "    print('Loan not approved because of income and credit score')\n",
        "else:\n",
        "  print('Loan not approved because of underage')"
      ],
      "metadata": {
        "id": "8SeC8KgsVvE1",
        "outputId": "0c3432e7-fb84-41d1-820f-f70e884253d9",
        "colab": {
          "base_uri": "https://localhost:8080/"
        }
      },
      "execution_count": 63,
      "outputs": [
        {
          "output_type": "stream",
          "name": "stdout",
          "text": [
            "Loan approved\n"
          ]
        }
      ]
    },
    {
      "cell_type": "markdown",
      "source": [],
      "metadata": {
        "id": "zA2c9liFVuko"
      }
    },
    {
      "cell_type": "markdown",
      "metadata": {
        "id": "8UO3o_StlYuW"
      },
      "source": [
        "## **Exercise 4: Complex Weather Decision System**"
      ]
    },
    {
      "cell_type": "markdown",
      "metadata": {
        "id": "wInyOjJ4lYuW"
      },
      "source": [
        "\n",
        "A **weather advisory system** follows these rules:\n",
        "- If `temperature` is **below 32°F**, print `\"Freezing warning\"`.\n",
        "- If `temperature` is **between 32°F and 50°F**, print `\"Cold weather\"`.\n",
        "- If `temperature` is **above 50°F** and `humidity` is **above 70%**, print `\"Warm but humid\"`.\n",
        "- Otherwise, print `\"Mild weather\"`.\n"
      ]
    },
    {
      "cell_type": "code",
      "execution_count": 58,
      "metadata": {
        "id": "Wjyd1oVplYuW",
        "outputId": "6d998feb-6c6b-42d2-be08-ba494d2d0e97",
        "colab": {
          "base_uri": "https://localhost:8080/"
        }
      },
      "outputs": [
        {
          "output_type": "stream",
          "name": "stdout",
          "text": [
            "Freezing warning\n"
          ]
        }
      ],
      "source": [
        "# Exercise 4\n",
        "temperature = 30 # Change this value to test\n",
        "humidity = 60  # Change this value to test\n",
        "# Your logic here\n",
        "if temperature < 32:\n",
        "  print('Freezing warning')\n",
        "elif temperature >=32 and temperature <= 50:\n",
        "  print(\"Cold weather\")\n",
        "elif temperature > 50 and humidity > 70 :\n",
        "  print(\"Warm but humid\")\n",
        "else:\n",
        "  print(\"Mild weather\")\n",
        "\n"
      ]
    },
    {
      "cell_type": "markdown",
      "metadata": {
        "id": "autIHa0AlYuW"
      },
      "source": [
        "## **Exercise 5: Advanced Multi-Step Bank Security System (Extra Hard)**"
      ]
    },
    {
      "cell_type": "markdown",
      "metadata": {
        "id": "G5Yoiy_vlYuW"
      },
      "source": [
        "\n",
        "Design a **bank security system** that follows these rules:\n",
        "- If `is_employee = True`, grant full access.\n",
        "- If `is_manager = True`, grant access to sensitive files.\n",
        "- If `is_customer = True` and `account_balance > 1000`, allow transactions.\n",
        "- If none of the conditions apply, print `\"Access Denied\"`.\n",
        "- **Extended Rule:** If `security_alert = True`, deny all access regardless of other conditions."
      ]
    },
    {
      "cell_type": "code",
      "execution_count": null,
      "metadata": {
        "id": "kBYvJanNlYuW"
      },
      "outputs": [],
      "source": [
        "# Exercise 5\n",
        "is_employee = False  # Change this value to test\n",
        "is_manager = False  # Change this value to test\n",
        "is_customer = True  # Change this value to test\n",
        "account_balance = 5000  # Change this value to test\n",
        "security_alert = False  # Change this value to test\n",
        "# Your logic here\n"
      ]
    },
    {
      "cell_type": "markdown",
      "metadata": {
        "id": "r1-KkPtQlYuW"
      },
      "source": [
        "## **Submission Guidelines**"
      ]
    },
    {
      "cell_type": "markdown",
      "metadata": {
        "id": "NuVbyh_XlYuW"
      },
      "source": [
        "\n",
        "- Submit your work as a `.py` or `.ipynb` file.\n",
        "- Clearly label each exercise and include comments.\n",
        "- Focus on completing Exercises 1–4; Exercise 5 is a stretch challenge.\n",
        "- Have fun practicing your advanced conditionals!"
      ]
    }
  ],
  "metadata": {
    "language_info": {
      "name": "python"
    },
    "colab": {
      "provenance": []
    },
    "kernelspec": {
      "name": "python3",
      "display_name": "Python 3"
    }
  },
  "nbformat": 4,
  "nbformat_minor": 0
}