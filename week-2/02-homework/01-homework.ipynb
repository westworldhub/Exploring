{
  "cells": [
    {
      "cell_type": "markdown",
      "metadata": {
        "id": "nPROeAODlRrR"
      },
      "source": [
        "# Homework: Conditional Logic and Boolean Expressions"
      ]
    },
    {
      "cell_type": "markdown",
      "metadata": {
        "id": "h--3sW3alRrS"
      },
      "source": [
        "## **Submission Guidelines**\n",
        "* Focus on completing Exercises 1, 2 and 3. Exercises 4 and 5 are _stretch challenges_.\n",
        "* Submit your by copy and pasting each exercise into the text submission box for this assessment in brightspace* Clearly label each exercise and include comments to explain your logic.\n",
        "\n",
        "\n",
        "## Instructions"
      ]
    },
    {
      "cell_type": "markdown",
      "metadata": {
        "id": "IbUQcsbQlRrS"
      },
      "source": [
        "\n",
        "Copy this Jupyter Notebook and complete each exercise in the provided spaces.  \n",
        "\n",
        "- Clearly label each exercise and include comments explaining your logic.  \n",
        "- Focus on completing Exercises 1–3; Exercises 4 and 5 are a stretch challenge.\n",
        "- Modify the predefined variables as needed to test different cases.  \n",
        "\n",
        "**Remember to start with the English steps, write pseudocode, then write code.**"
      ]
    },
    {
      "cell_type": "markdown",
      "metadata": {
        "id": "vRHBB4nclRrS"
      },
      "source": [
        "## **Exercise 1: Basic Conditional Statements**"
      ]
    },
    {
      "cell_type": "markdown",
      "metadata": {
        "id": "yzw12w02lRrT"
      },
      "source": [
        "\n",
        "1. **Write a Conditional Statement:** A variable `temperature` is already defined.\n",
        "2. **Use an If-Else Statement:** If the temperature is greater than 80, print `\"It's hot!\"`; otherwise, print `\"It's not too hot.\"`"
      ]
    },
    {
      "cell_type": "code",
      "execution_count": 3,
      "metadata": {
        "colab": {
          "base_uri": "https://localhost:8080/"
        },
        "id": "zLt-w5EglRrT",
        "outputId": "953b9b3c-0559-44b2-e863-dc9855f074c5"
      },
      "outputs": [
        {
          "output_type": "stream",
          "name": "stdout",
          "text": [
            "It's hot!\n"
          ]
        }
      ],
      "source": [
        "# Exercise 1\n",
        "temperature = 95  # Change this value to test different conditions\n",
        "# Your if-else statement here\n",
        "if temperature > 80:\n",
        "    print(\"It's hot!\")\n",
        "else:\n",
        "    print(\"It's not too hot.\")"
      ]
    },
    {
      "cell_type": "markdown",
      "metadata": {
        "id": "UWla9Ic9lRrT"
      },
      "source": [
        "\n",
        "## **Exercise 2: Logical Operators**"
      ]
    },
    {
      "cell_type": "markdown",
      "metadata": {
        "id": "CBExR0_ZlRrT"
      },
      "source": [
        "\n",
        "1. **Boolean Variables:** `is_raining` and `have_umbrella` are already defined.\n",
        "2. **Use Logical Operators:** Write an `if` statement that prints `\"You will stay dry\"` only if you have an umbrella or it's not raining."
      ]
    },
    {
      "cell_type": "code",
      "execution_count": 8,
      "metadata": {
        "colab": {
          "base_uri": "https://localhost:8080/"
        },
        "id": "Q9rrrr91lRrT",
        "outputId": "9a4f5991-8dad-41d2-9ce9-9c44a4f75597"
      },
      "outputs": [
        {
          "output_type": "stream",
          "name": "stdout",
          "text": [
            "You will stay dry\n"
          ]
        }
      ],
      "source": [
        "# Exercise 2\n",
        "is_raining = True  # Change this to test\n",
        "have_umbrella = True  # Change this to test\n",
        "# Your conditional logic here\n",
        "if have_umbrella or not is_raining:\n",
        "  print('You will stay dry')\n"
      ]
    },
    {
      "cell_type": "markdown",
      "metadata": {
        "id": "AJaVLCyUlRrU"
      },
      "source": [
        "## **Exercise 3: Nested Conditions**"
      ]
    },
    {
      "cell_type": "markdown",
      "metadata": {
        "id": "fIFZ3QeflRrU"
      },
      "source": [
        "\n",
        "A **store discount system** follows these rules:\n",
        "- If a customer is a member, they get a 10% discount.\n",
        "- If they spend over $100, they get an additional 5% discount.\n",
        "- If they are not a member, they get no discount.\n",
        "\n",
        "Write a program that calculates the discount using predefined values for `is_member` and `total_spent`."
      ]
    },
    {
      "cell_type": "code",
      "execution_count": 19,
      "metadata": {
        "colab": {
          "base_uri": "https://localhost:8080/"
        },
        "id": "zcx3vadclRrU",
        "outputId": "511dca6d-1ef8-4f28-d323-d9a2a92aaf32"
      },
      "outputs": [
        {
          "output_type": "stream",
          "name": "stdout",
          "text": [
            "Discount amount: $18.00\n",
            "Final price after discount: $102.00\n"
          ]
        }
      ],
      "source": [
        "is_member = True  # Change this value to test\n",
        "total_spent = 120  # Change this value to test\n",
        "discount = 0\n",
        "# Your logic here\n",
        "if is_member:\n",
        "    discount = 0.10\n",
        "    if total_spent > 100:\n",
        "        discount += 0.05\n",
        "# calculate total price\n",
        "discount_amount = total_spent * discount\n",
        "final_price = total_spent - discount_amount\n",
        "\n",
        "print(f\"Discount amount: ${discount_amount:.2f}\")\n",
        "print(f\"Final price after discount: ${final_price:.2f}\")"
      ]
    },
    {
      "cell_type": "markdown",
      "metadata": {
        "id": "-JX2i1MzlRrU"
      },
      "source": [
        "\n",
        "## **Exercise 4: Manual Number Comparison (Extra Hard)**"
      ]
    },
    {
      "cell_type": "markdown",
      "metadata": {
        "id": "G8YVEqRSlRrU"
      },
      "source": [
        "\n",
        "Given three numbers `a, b, c`, determine and print the **largest** and **smallest** **without using built-in functions** like `max()` or `min()`.\n",
        "\n",
        "- **Hint**: You must manually compare each number using nested `if` statements."
      ]
    },
    {
      "cell_type": "code",
      "execution_count": null,
      "metadata": {
        "id": "nSBFFA8elRrU"
      },
      "outputs": [],
      "source": [
        "# Exercise 5\n",
        "a = 10\n",
        "b = 20\n",
        "c = 15\n",
        "\n",
        "# Your logic here"
      ]
    },
    {
      "cell_type": "markdown",
      "metadata": {
        "id": "Od60QWT_lRrU"
      },
      "source": [
        "## **Exercise 5: Nested Logical Puzzle (Nearly Impossible)**"
      ]
    },
    {
      "cell_type": "markdown",
      "metadata": {
        "id": "m1EhBaM4lRrU"
      },
      "source": [
        "\n",
        "You're given four integer variables: `a`, `b`, `c`, and `d`. Write a program to determine and print:\n",
        "\n",
        "1. **The second largest** number among the four variables **without using any built-in functions or sorting**.\n",
        "2. Additionally, identify if the second largest number is **even or odd** and print the result accordingly.\n",
        "\n",
        "You must solve this **only using nested conditional statements and logical operators**.\n",
        "\n",
        "**Example Output:**  \n",
        "```\n",
        "The second largest number is 42\n",
        "The second largest number is even.\n",
        "```\n",
        "\n",
        "This challenge demands careful consideration of multiple comparisons and conditions.\n"
      ]
    },
    {
      "cell_type": "code",
      "execution_count": null,
      "metadata": {
        "id": "GvOgYsBnlRrU"
      },
      "outputs": [],
      "source": [
        "# Exercise 5\n",
        "a = 25  # Change this to test\n",
        "b = 42  # Change this to test\n",
        "c = 37  # Change this to test\n",
        "d = 42  # Change this to test\n",
        "\n",
        "# Your logic here\n"
      ]
    },
    {
      "cell_type": "markdown",
      "metadata": {
        "id": "meziYCuolRrU"
      },
      "source": [
        "\n",
        "\n",
        "## **Submission Guidelines**"
      ]
    },
    {
      "cell_type": "markdown",
      "metadata": {
        "id": "vO34kwnhlRrU"
      },
      "source": [
        "\n",
        "- Submit your work as a single Python file (`.py`) or a Jupyter Notebook (`.ipynb`).\n",
        "- Clearly label each exercise and include comments to explain your logic.\n",
        "- Focus on completing Exercises 1–3; Exercises 4 and 5 are a stretch challenge.\n"
      ]
    }
  ],
  "metadata": {
    "kernelspec": {
      "display_name": "Python 3",
      "language": "python",
      "name": "python3"
    },
    "language_info": {
      "codemirror_mode": {
        "name": "ipython",
        "version": 3
      },
      "file_extension": ".py",
      "mimetype": "text/x-python",
      "name": "python",
      "nbconvert_exporter": "python",
      "pygments_lexer": "ipython3",
      "version": "3.12.2"
    },
    "colab": {
      "provenance": []
    }
  },
  "nbformat": 4,
  "nbformat_minor": 0
}