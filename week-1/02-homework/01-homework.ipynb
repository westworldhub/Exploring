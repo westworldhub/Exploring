{
  "cells": [
    {
      "cell_type": "markdown",
      "id": "4eb1f2da-1be9-465f-a23c-ee807b9fce39",
      "metadata": {
        "id": "4eb1f2da-1be9-465f-a23c-ee807b9fce39"
      },
      "source": [
        "# Homework: Learning to Code"
      ]
    },
    {
      "cell_type": "markdown",
      "id": "eb8de40c-e3cf-40ab-9420-ea90d78011f7",
      "metadata": {
        "id": "eb8de40c-e3cf-40ab-9420-ea90d78011f7"
      },
      "source": [
        "## **Submission Guidelines**"
      ]
    },
    {
      "cell_type": "markdown",
      "id": "48c42e3d-5a43-4cf3-a95d-d72495bca344",
      "metadata": {
        "id": "48c42e3d-5a43-4cf3-a95d-d72495bca344"
      },
      "source": [
        "* Focus on completing Exercises 1, 2 and 3. Exercises 4 and 5 are _stretch challenges_.\n",
        "* Submit your work as a single Python file (__`.py`__) or a Jupyter Notebook (__`.ipynb`__).\n",
        "* Clearly label each exercise and include comments to explain your logic."
      ]
    },
    {
      "cell_type": "markdown",
      "id": "b6652965-0fa6-44d8-90cb-cda2d452f10b",
      "metadata": {
        "id": "b6652965-0fa6-44d8-90cb-cda2d452f10b"
      },
      "source": [
        "### Exercise 1: Algorithms\n",
        "For each of the problems below, write an algorithm (in English) to explain how to solve the problem. Think about whether another person can perform the task based on the steps you wrote down, without consulting you. If so, you're done.\n",
        "1. **Vote Eligibility** Given an age, determine if the person is eligible to vote\n",
        "1. **Tip Computation** Compute the tip at a restaurant\n",
        "1. **Layaway Computation** Given a total price, and a number of months, compute the cost per month to buy the item on \"lawaway\" (i.e., the buyer pays for a portion of the cost each month until it is paid off, and then the buyer takes possession of them item). Assume no interest is added, so that the buyer just pays the total amount, split over some number of months."
      ]
    },
    {
      "cell_type": "code",
      "source": [
        "## 1.VOTE ELIGIBILITY\n",
        "\n",
        "# take person's age\n",
        "# if age greater than or equal 18,Inform the person that are eligible\n",
        "# if age lower than 18,Inform the person that are not eligible"
      ],
      "metadata": {
        "id": "oZnlFS7CIHX1"
      },
      "id": "oZnlFS7CIHX1",
      "execution_count": null,
      "outputs": []
    },
    {
      "cell_type": "code",
      "source": [
        "## 2.TIP COMPUTATION\n",
        "\n",
        "# choose the tip percentage\n",
        "# get the total amount of bill\n",
        "# multiply the total amout by the selected tip percentage\n",
        "# get the tips amount\n",
        "# add tip amount to total amount of bill"
      ],
      "metadata": {
        "id": "2L7ZbPn0IJgL"
      },
      "id": "2L7ZbPn0IJgL",
      "execution_count": null,
      "outputs": []
    },
    {
      "cell_type": "code",
      "source": [
        "## 3. LAYAWAY COMPUTATION\n",
        "\n",
        "# Get the total price of product\n",
        "# Get the number of month to payment\n",
        "# Divide the total price by number of month to find montly payment\n",
        "# Declare monthly payment"
      ],
      "metadata": {
        "id": "Kp6DT18YIO8G"
      },
      "id": "Kp6DT18YIO8G",
      "execution_count": null,
      "outputs": []
    },
    {
      "cell_type": "markdown",
      "id": "e8086ec2-ae62-43fc-8541-2d4c51780ec1",
      "metadata": {
        "id": "e8086ec2-ae62-43fc-8541-2d4c51780ec1"
      },
      "source": [
        "### Exercise 2: More Algorithms\n",
        "1. **Calculate Seconds** Given a number of hours and a number of minutes, compute the total number of seconds (e.g., 2 hours and 38 minutes is 9480 seconds)\n",
        "1. **Count Vowels** Given a sentence, count the number of vowels (a, e, i, o, u) in that sentence\n",
        "1. **Find the Largest Number** Given a list of numbers, determine the largest number in the list"
      ]
    },
    {
      "cell_type": "code",
      "source": [
        "## 1. CALCULATE SECONDS\n",
        "\n",
        "# Get the number of hours and number of minutes\n",
        "# Multiply number of hours by 60 to convert minutes\n",
        "# Add this result to the given number of minutes to get the total minutes.\n",
        "# Multiply total of minutes by 60 to convert seconds\n",
        "# Declare seconds"
      ],
      "metadata": {
        "id": "ltdui-KPISC3"
      },
      "id": "ltdui-KPISC3",
      "execution_count": null,
      "outputs": []
    },
    {
      "cell_type": "code",
      "source": [
        "## 2.COUNT VOWELS\n",
        "\n",
        "# Get all sentences\n",
        "# Check all character in the sentence, then initialize a counter at 0.\n",
        "# If there are a,e, i, o, u increase counter by 1\n",
        "# Declare the counter (to show the total number of vowels)"
      ],
      "metadata": {
        "id": "tKLXDX4FIU19"
      },
      "id": "tKLXDX4FIU19",
      "execution_count": null,
      "outputs": []
    },
    {
      "cell_type": "code",
      "source": [
        "## 3. FIND THE LARGEST NUMBER\n",
        "\n",
        "# Get the list of numbers\n",
        "# Get the first number\n",
        "# Get the second number\n",
        "# Compare the two and keep the number that is largest\n",
        "# Compare the largest number with the other number in the list this time\n",
        "# After checking all numbers, Declare the largest number."
      ],
      "metadata": {
        "id": "BwLdrezSIXed"
      },
      "id": "BwLdrezSIXed",
      "execution_count": null,
      "outputs": []
    },
    {
      "cell_type": "markdown",
      "id": "1e13952c-7049-4d2d-bf2f-cfb11ec3126b",
      "metadata": {
        "id": "1e13952c-7049-4d2d-bf2f-cfb11ec3126b"
      },
      "source": [
        "### Exercise 3: Even More Algorithms\n",
        "1. **Palidrome** Determine whether a word is a palindrome, i.e., the same backwards or forwards (e.g., __civic__, __noon__, __kayak__, __level__, __racecar__)\n",
        "1. **Sort a List** Describe the steps required to arrange a list of numbers in ascending order (e.g., _3, 1, 7, 8, 4, 11, 9, 0_ → _0, 1, 3, 4, 7, 8, 9, 11_"
      ]
    },
    {
      "cell_type": "code",
      "execution_count": null,
      "id": "0856dd77-5fe1-40bc-b11b-d6a63ce43528",
      "metadata": {
        "id": "0856dd77-5fe1-40bc-b11b-d6a63ce43528"
      },
      "outputs": [],
      "source": [
        "## 1. PALINDROME\n",
        "\n",
        "# Get the world\n",
        "# Reverse the word.\n",
        "# Compare the original word with the reversed word.\n",
        "# If they are the same, the word is a palindrome.\n",
        "# If they are different, the word is not a palindrome."
      ]
    },
    {
      "cell_type": "code",
      "execution_count": null,
      "id": "a10e855c-7cf3-4785-a8a8-a58916ef4670",
      "metadata": {
        "id": "a10e855c-7cf3-4785-a8a8-a58916ef4670"
      },
      "outputs": [],
      "source": [
        "## 2. SORT A LIST\n",
        "\n",
        "# Get the list of numbers.\n",
        "# Start from the first number and compare it with the next number.\n",
        "# If the first number is greater than the next number, swap them.\n",
        "# Move to the next pair of numbers and repeat the comparison and swap if necessary.\n",
        "# Repeat Steps 2–4 until you go through the entire list without needing any swaps.\n",
        "# Then Declare sorted list."
      ]
    },
    {
      "cell_type": "code",
      "execution_count": null,
      "id": "17af0c57-6e49-4ee2-90a3-9fd0899398a3",
      "metadata": {
        "id": "17af0c57-6e49-4ee2-90a3-9fd0899398a3"
      },
      "outputs": [],
      "source": []
    },
    {
      "cell_type": "code",
      "execution_count": null,
      "id": "a69ac3eb-d7ec-4854-9aea-db458b2d510b",
      "metadata": {
        "id": "a69ac3eb-d7ec-4854-9aea-db458b2d510b"
      },
      "outputs": [],
      "source": []
    },
    {
      "cell_type": "markdown",
      "id": "0f5cb9cc-0bde-4fa5-b3a2-84cdbbd17d4b",
      "metadata": {
        "id": "0f5cb9cc-0bde-4fa5-b3a2-84cdbbd17d4b"
      },
      "source": [
        "### Exercise 4: Try some famous algorithms by hand (more difficult)\n",
        "Let's change it up a bit. Instead of writing the algorithms, try out some algorithms by hand, here in the notebook or on paper.\n",
        "1. **Kaprekar's Constant** The number 6174 is known as [Kaprekar's Constant](https://en.wikipedia.org/wiki/6174). Apply the following algorithm to any four-digit number (where all digits are not the same) and you will eventually get to 6174, Kaprekar's Constant:\n",
        "    1. Select any four-digit number which has at least two different digits (leading zeros are allowed)\n",
        "    1. Create two new four-digit numbers by arranging the original digits in  ascending and descending order (adding leading zeros if necessary)\n",
        "    1. Subtract the smaller number from the bigger number\n",
        "    1. If the result is not 6174, return to step 2 and repeat\n",
        "1. **[Collatz Conjecture](https://en.wikipedia.org/wiki/Collatz_conjecture)** This is  a famous unsolved problem in mathematics. We won't try to prove it (no one has been able to prove it for almost 100 years), but instead, we will follow the steps for a few example numbers:\n",
        "    1. start with any integer greater than 1\n",
        "    1. if the number is even, divide it by 2\n",
        "    1. if the number is odd, multiply it by 3 and add 1\n",
        "    1. keep doing the above two steps, you'll eventually end up with 1\n",
        "    1. try it with the numbers 5, 24, and 33"
      ]
    },
    {
      "cell_type": "markdown",
      "id": "b22d131f-e827-4e9c-a770-ca4bfd8fe41d",
      "metadata": {
        "id": "b22d131f-e827-4e9c-a770-ca4bfd8fe41d"
      },
      "source": [
        "### Exercise 5: Algorithms (more difficult)\n",
        "For each of the problems below, write an algorithm (in English) to explain how to solve the problem. Think about whether another person can perform the task based on the steps you wrote down, without consulting you. If so, you're done.\n",
        "1. **Prime Number** determine whether an integer is a prime number or not (a number is prime if it's only divisible by 1 and itself)\n",
        "2. **Pangram** determine whether a sentence is a pangram (a pangram is a sentence or verse that contains all the letters of the alphabet), e.g., these are all pangrams\n",
        "   * _The wizard quickly jinxed the gnomes before they vaporized_\n",
        "   * _How vexingly quick daft zebras jump_\n",
        "   * _Five or six big jet planes zoomed quickly by the tower_\n",
        "   * _Pack my box with five dozen liquor jugs_\n",
        "3. **Anagrams** check if two words are anagrams of each other, that is, they contain the same letters in a differet order (e.g., \"silent\" and \"listen\")\n",
        "4. **Compress a String** implement basic text compression where repeated characters are replaced with counts (e.g., \"aabcccccaaa\" → \"a2b1c5a3\")\n",
        "1. **Happy Numbers** determine if a number is a _happy number_ (a happy number is a number which eventually reaches 1 when replaced by the sum of the square of each digit–e.g., 13 is a happy number because 1<sup>2</sup> + 3<sup>2</sup> = 10, and 1<sup>2</sup> + 0<sup>2</sup> = 1)"
      ]
    },
    {
      "cell_type": "code",
      "execution_count": null,
      "id": "54cd1b30-4c2f-4eca-b6ce-1eb2fc2043bb",
      "metadata": {
        "id": "54cd1b30-4c2f-4eca-b6ce-1eb2fc2043bb"
      },
      "outputs": [],
      "source": []
    },
    {
      "cell_type": "code",
      "execution_count": null,
      "id": "ef105ffa-352a-4c27-8281-ecec10cd7d85",
      "metadata": {
        "id": "ef105ffa-352a-4c27-8281-ecec10cd7d85"
      },
      "outputs": [],
      "source": []
    },
    {
      "cell_type": "markdown",
      "id": "fe2e6033-5804-4cd7-bd54-3ebcc63db052",
      "metadata": {
        "id": "fe2e6033-5804-4cd7-bd54-3ebcc63db052"
      },
      "source": []
    },
    {
      "cell_type": "markdown",
      "id": "4c1aa9ec-4d97-4c0c-befc-9bddfbe2c302",
      "metadata": {
        "id": "4c1aa9ec-4d97-4c0c-befc-9bddfbe2c302"
      },
      "source": []
    },
    {
      "cell_type": "code",
      "execution_count": null,
      "id": "9d5ce0fc-8ee3-456f-8970-577e3866d357",
      "metadata": {
        "id": "9d5ce0fc-8ee3-456f-8970-577e3866d357"
      },
      "outputs": [],
      "source": []
    }
  ],
  "metadata": {
    "kernelspec": {
      "display_name": "Python 3 (ipykernel)",
      "language": "python",
      "name": "python3"
    },
    "language_info": {
      "codemirror_mode": {
        "name": "ipython",
        "version": 3
      },
      "file_extension": ".py",
      "mimetype": "text/x-python",
      "name": "python",
      "nbconvert_exporter": "python",
      "pygments_lexer": "ipython3",
      "version": "3.13.1"
    },
    "colab": {
      "provenance": []
    }
  },
  "nbformat": 4,
  "nbformat_minor": 5
}