{
  "cells": [
    {
      "cell_type": "markdown",
      "id": "76639b6d-da73-4e1e-8aaa-0070a2403485",
      "metadata": {
        "id": "76639b6d-da73-4e1e-8aaa-0070a2403485"
      },
      "source": [
        "# Homework: Variables/Boolean Expressions/__`if`__ Statements/Pseudocode\n",
        "\n",
        "## **Submission Guidelines**\n",
        "* Focus on completing Exercises 1, 2 and 3. Exercises 4 and 5 are _stretch challenges_.\n",
        "* Submit your work as a single Python file (__`.py`__) or a Jupyter Notebook (__`.ipynb`__).\n",
        "* Clearly label each exercise and include comments to explain your logic.\n",
        "\n",
        "## Instructions\n",
        "\n",
        "Complete the following exercises in a single Python file or Jupyter Notebook. Clearly label each exercise and when needed, include comments explaining your logic. Focus on completing Exercise 1 through 4. Exercise 5 is a _stretch challenge_."
      ]
    },
    {
      "cell_type": "markdown",
      "id": "1b3cec93-6b5b-4d78-81ab-17ab17b75a25",
      "metadata": {
        "id": "1b3cec93-6b5b-4d78-81ab-17ab17b75a25"
      },
      "source": [
        "### Exercise 1: Variables\n",
        "* Each scenario below describes some data to be manipulated by your code. Choose appropriate variable names (and values) and create variables/expressions for these scenarios.\n",
        "  "
      ]
    },
    {
      "cell_type": "code",
      "execution_count": null,
      "id": "d2294621-440c-4667-87df-6306f0a70fec",
      "metadata": {
        "id": "d2294621-440c-4667-87df-6306f0a70fec"
      },
      "outputs": [],
      "source": []
    },
    {
      "cell_type": "markdown",
      "id": "8a3f8bb8-024e-4645-b633-356db225d206",
      "metadata": {
        "id": "8a3f8bb8-024e-4645-b633-356db225d206"
      },
      "source": [
        "1. Determine the cost of some number of pounds of cement. Assume there is a sales tax that applies.\n",
        "  "
      ]
    },
    {
      "cell_type": "code",
      "execution_count": 3,
      "id": "d0fe743d-1acd-41a8-a0b9-92aedc8fc0a4",
      "metadata": {
        "colab": {
          "base_uri": "https://localhost:8080/"
        },
        "id": "d0fe743d-1acd-41a8-a0b9-92aedc8fc0a4",
        "outputId": "252b93fc-f46f-4190-a9bb-edd57cb3fe03"
      },
      "outputs": [
        {
          "output_type": "execute_result",
          "data": {
            "text/plain": [
              "38.88"
            ]
          },
          "metadata": {},
          "execution_count": 3
        }
      ],
      "source": [
        "# Cost per pound of cement in dollars\n",
        "price_per_pound= 0.30\n",
        "\n",
        "# Number of pound of cement\n",
        "pound= 120\n",
        "\n",
        "# Sales tax of cement as decimal (%8)\n",
        "salex_tax= 0.08\n",
        "\n",
        "# Total cost before tax\n",
        "subtotal = price_per_pound * pound\n",
        "\n",
        "# total cost included salex tax\n",
        "total_cost =  subtotal * (1+salex_tax)\n",
        "\n",
        "#Result\n",
        "total_cost\n"
      ]
    },
    {
      "cell_type": "markdown",
      "id": "b1aa5351-43b1-401f-b15a-ecff2d4c393b",
      "metadata": {
        "id": "b1aa5351-43b1-401f-b15a-ecff2d4c393b"
      },
      "source": [
        "2. Given the cost of various containers of eggs (perhaps half a dozen, one dozen, and 1 1/2 dozen), determine the cost _per egg_ for each of those containers.\n",
        "  "
      ]
    },
    {
      "cell_type": "code",
      "execution_count": 2,
      "id": "e757836e-1848-434f-9301-d41470770f49",
      "metadata": {
        "colab": {
          "base_uri": "https://localhost:8080/"
        },
        "id": "e757836e-1848-434f-9301-d41470770f49",
        "outputId": "7a593356-3883-4a76-cf49-ade9ce4d3837"
      },
      "outputs": [
        {
          "output_type": "execute_result",
          "data": {
            "text/plain": [
              "(1.1666666666666667, 0.8333333333333334, 0.7222222222222222)"
            ]
          },
          "metadata": {},
          "execution_count": 2
        }
      ],
      "source": [
        "# costs of containers of eggs in dollar\n",
        "cost_half_dozen = 7\n",
        "cost_dozen = 10\n",
        "cost_one_half_dozen = 13\n",
        "\n",
        "# Number of eggs in for each container\n",
        "eggs_half_dozen = 6\n",
        "eggs_dozen = 12\n",
        "eggs_one_half_dozen = 18\n",
        "\n",
        "#cost per eggs\n",
        "cost_per_egg_half_dozen = cost_half_dozen / eggs_half_dozen\n",
        "cost_per_egg_dozen = cost_dozen / eggs_dozen\n",
        "cost_per_egg_one_half_dozen = cost_one_half_dozen /eggs_one_half_dozen\n",
        "\n",
        "# Results\n",
        "cost_per_egg_half_dozen,cost_per_egg_dozen,cost_per_egg_one_half_dozen"
      ]
    },
    {
      "cell_type": "markdown",
      "id": "192dfb2f-790e-4725-b201-3b803f4fc348",
      "metadata": {
        "id": "192dfb2f-790e-4725-b201-3b803f4fc348"
      },
      "source": [
        "3. Given an hourly wage and a number of hours worked, determine how much a worker should be paid for shoveling snow."
      ]
    },
    {
      "cell_type": "code",
      "execution_count": 1,
      "id": "9f098469-0470-4a68-ba73-721bd6526c2c",
      "metadata": {
        "colab": {
          "base_uri": "https://localhost:8080/"
        },
        "id": "9f098469-0470-4a68-ba73-721bd6526c2c",
        "outputId": "3b8f42ed-cc1f-4111-ef27-ed9968eeccef"
      },
      "outputs": [
        {
          "output_type": "execute_result",
          "data": {
            "text/plain": [
              "600"
            ]
          },
          "metadata": {},
          "execution_count": 1
        }
      ],
      "source": [
        "# Hourly wage in dollar\n",
        "Hourly_wage = 15\n",
        "# Number of hours worked in week\n",
        "Number_of_hours = 40\n",
        "# Wages paid to a worker for snow shoveling\n",
        "Payment= Hourly_wage * Number_of_hours\n",
        "# Declared payment\n",
        "Payment"
      ]
    },
    {
      "cell_type": "markdown",
      "id": "3a702132-7720-45b3-97d6-6dc7d4fc1113",
      "metadata": {
        "id": "3a702132-7720-45b3-97d6-6dc7d4fc1113"
      },
      "source": [
        "### Exercise 2: Boolean Expressions\n",
        "* Each scenario below describes some data to be manipulated by your code. Choose appropriate variable names (and values) and create Boolean expressions for these scenarios.\n",
        "  "
      ]
    },
    {
      "cell_type": "markdown",
      "id": "192e9f66-c2a7-4933-beaa-4666f57ac042",
      "metadata": {
        "id": "192e9f66-c2a7-4933-beaa-4666f57ac042"
      },
      "source": [
        "1. Given the number of hours worked in a week, determine whether the employee will receive any overtime pay.\n",
        "  "
      ]
    },
    {
      "cell_type": "code",
      "execution_count": 4,
      "id": "d99bbc14-4ab9-4cc2-abf4-0f847d4aa95c",
      "metadata": {
        "colab": {
          "base_uri": "https://localhost:8080/"
        },
        "id": "d99bbc14-4ab9-4cc2-abf4-0f847d4aa95c",
        "outputId": "23b2d935-54a0-4a78-d965-bf4b2af5640f"
      },
      "outputs": [
        {
          "output_type": "execute_result",
          "data": {
            "text/plain": [
              "True"
            ]
          },
          "metadata": {},
          "execution_count": 4
        }
      ],
      "source": [
        "# Number of hours worked in a week\n",
        "hours_worked = 48\n",
        "# standard work hours\n",
        "regular_hours = 40\n",
        "# find overtime\n",
        "if hours_worked > regular_hours:\n",
        "  overtime = hours_worked - regular_hours\n",
        "  overtime = True\n",
        "else :\n",
        "  overtime = False\n",
        "# Result\n",
        "overtime"
      ]
    },
    {
      "cell_type": "markdown",
      "id": "39e3ed1b-b146-4653-a011-05cc34913574",
      "metadata": {
        "id": "39e3ed1b-b146-4653-a011-05cc34913574"
      },
      "source": [
        "2. Determine whether someone else's name is the same as your name.\n",
        "  "
      ]
    },
    {
      "cell_type": "code",
      "execution_count": 8,
      "id": "99c07417-eb54-44db-8fdf-d890b0f48892",
      "metadata": {
        "colab": {
          "base_uri": "https://localhost:8080/"
        },
        "id": "99c07417-eb54-44db-8fdf-d890b0f48892",
        "outputId": "a081a859-a329-4425-f6ce-7252f11c65cd"
      },
      "outputs": [
        {
          "output_type": "stream",
          "name": "stdout",
          "text": [
            "not same name\n"
          ]
        }
      ],
      "source": [
        "# Get name\n",
        "my_name = 'Abdulkadir Yanar'\n",
        "#  Get second name\n",
        "other_name = 'Dave Wade Stein'\n",
        "\n",
        "if my_name.lower() == other_name.lower() :\n",
        "  print('same name')\n",
        "else :\n",
        "  print('not same name')\n"
      ]
    },
    {
      "cell_type": "markdown",
      "id": "906a7a13-ae3e-4369-8853-a970d326c03e",
      "metadata": {
        "id": "906a7a13-ae3e-4369-8853-a970d326c03e"
      },
      "source": [
        "3. Determine whether the number of consecutive days of rain is at least 3"
      ]
    },
    {
      "cell_type": "code",
      "execution_count": 9,
      "id": "490fd285-10c5-4d98-8bb5-fde0566e6064",
      "metadata": {
        "colab": {
          "base_uri": "https://localhost:8080/"
        },
        "id": "490fd285-10c5-4d98-8bb5-fde0566e6064",
        "outputId": "22a2c232-f4ce-428e-b3a9-19e76955296e"
      },
      "outputs": [
        {
          "output_type": "execute_result",
          "data": {
            "text/plain": [
              "True"
            ]
          },
          "metadata": {},
          "execution_count": 9
        }
      ],
      "source": [
        "# Number of consecutive rainy days\n",
        "consecutive_rainy_days= 5\n",
        "# Check rainy days\n",
        "at_least_3_day = consecutive_rainy_days >= 3\n",
        "# Result\n",
        "at_least_3_day\n"
      ]
    },
    {
      "cell_type": "markdown",
      "id": "6901b93f-56e3-4400-9acb-cee75d015682",
      "metadata": {
        "id": "6901b93f-56e3-4400-9acb-cee75d015682"
      },
      "source": [
        "### Exercise 3: Pseudocode\n",
        "* Turn the following bits of pseudocode into __`if`__ statements\n",
        "  "
      ]
    },
    {
      "cell_type": "markdown",
      "id": "9dfa5f07-9053-4497-ab09-a2dd4d4445f1",
      "metadata": {
        "id": "9dfa5f07-9053-4497-ab09-a2dd4d4445f1"
      },
      "source": [
        "1. Output a warning if the person's name is empty"
      ]
    },
    {
      "cell_type": "code",
      "source": [
        "person_name = '  '\n",
        "\n",
        "if not person_name.strip():\n",
        "  print (\"Warning: Name is empty!\")\n",
        "else:\n",
        "  print ('hello',person_name)\n"
      ],
      "metadata": {
        "colab": {
          "base_uri": "https://localhost:8080/"
        },
        "id": "G91zTbDqR89D",
        "outputId": "0edbdbdc-eefe-485b-b0da-b2dee497c43b"
      },
      "id": "G91zTbDqR89D",
      "execution_count": 8,
      "outputs": [
        {
          "output_type": "stream",
          "name": "stdout",
          "text": [
            "Warning: Name is empty!\n"
          ]
        }
      ]
    },
    {
      "cell_type": "markdown",
      "id": "8f66564d-86cf-4141-be27-fe41a0145695",
      "metadata": {
        "id": "8f66564d-86cf-4141-be27-fe41a0145695"
      },
      "source": [
        "2. Turn on the fuel warning light when the number of gallons remaining is less than 1.5"
      ]
    },
    {
      "cell_type": "code",
      "source": [
        "# Fuel of Number of gallon\n",
        "remaining_gallon = 1\n",
        "\n",
        "# Check fuel level\n",
        "if remaining_gallon < 1.5 :\n",
        "  print(\"Fuel warning: Less than 1.5 gallons remaining!\")\n",
        "\n"
      ],
      "metadata": {
        "colab": {
          "base_uri": "https://localhost:8080/"
        },
        "id": "VanV36jXR_xO",
        "outputId": "794ee3ae-a652-4ce6-db5f-efef456a8b21"
      },
      "id": "VanV36jXR_xO",
      "execution_count": 1,
      "outputs": [
        {
          "output_type": "stream",
          "name": "stdout",
          "text": [
            "Fuel warning: Less than 1.5 gallons remaining!\n"
          ]
        }
      ]
    },
    {
      "cell_type": "markdown",
      "id": "a3f4e55f-8d45-4fef-bfe2-a754e694872e",
      "metadata": {
        "id": "a3f4e55f-8d45-4fef-bfe2-a754e694872e"
      },
      "source": [
        "3. BMI can be calculated as 703 times weight in pounds, divided by height in inches squared. Output \"Healthy BMI\" if the calculated BMI is below 25."
      ]
    },
    {
      "cell_type": "code",
      "source": [
        "# Get weight and height\n",
        "weight = 171.96\n",
        "height =  69.29\n",
        "\n",
        "# BMI calculation\n",
        "bmi = (703 * weight) / (height ** 2)\n",
        "\n",
        "# Check Healty range\n",
        "if bmi < 25:\n",
        "    print(\"Healthy BMI\")\n",
        "else:\n",
        "    print(\"BMI is above the healthy range\")"
      ],
      "metadata": {
        "colab": {
          "base_uri": "https://localhost:8080/"
        },
        "id": "dCYTRyGl0A2X",
        "outputId": "f93b1a56-347c-4147-8fa1-10ae7e414c12"
      },
      "id": "dCYTRyGl0A2X",
      "execution_count": 10,
      "outputs": [
        {
          "output_type": "stream",
          "name": "stdout",
          "text": [
            "BMI is above the healthy range\n"
          ]
        }
      ]
    },
    {
      "cell_type": "markdown",
      "id": "2c55859e-fa56-4690-a8a6-70b73e1249fc",
      "metadata": {
        "id": "2c55859e-fa56-4690-a8a6-70b73e1249fc"
      },
      "source": [
        "### Exercise 4: if statements\n",
        "* Explain what each of the following __`if`__ statements is doing/asking"
      ]
    },
    {
      "cell_type": "code",
      "execution_count": null,
      "id": "e282eb92-7ac0-47c8-9ee6-6311d7832a39",
      "metadata": {
        "id": "e282eb92-7ac0-47c8-9ee6-6311d7832a39"
      },
      "outputs": [],
      "source": [
        "feet = 4 # number of feet\n",
        "inches = 8 # number of inches\n",
        "\n",
        "if feet * 12 + inches >= 56: # Converts feet into inches.(with multiplying by 12)\n",
        "                             # Then calculates total of inches and Checks if the total inches are greater than or equal to 56\n",
        "\n",
        "  print('...')               # Prints if total of inches are greater than or equal"
      ]
    },
    {
      "cell_type": "code",
      "execution_count": null,
      "id": "a403c893-6b7e-4497-9e44-14e1ca773181",
      "metadata": {
        "id": "a403c893-6b7e-4497-9e44-14e1ca773181"
      },
      "outputs": [],
      "source": []
    },
    {
      "cell_type": "code",
      "execution_count": null,
      "id": "d20594b7-6e22-49c9-af84-59f842357bc4",
      "metadata": {
        "id": "d20594b7-6e22-49c9-af84-59f842357bc4"
      },
      "outputs": [],
      "source": [
        "hours = 220 # Number of total hours\n",
        "days = 0    # Creates a variable day with an initial value of zero\n",
        "\n",
        "if hours > 23: # Checks if hours greater than 23 (if it true,skip next step otherwise do not skip to the next step)\n",
        "    days = hours // 24 # Calculates number of full days in 220 hours then day is set as to 9 (220 // 24 = 9 )\n",
        "    print(days) # prints days\n",
        "\n",
        "print(hours - days * 24) # Calculates the remaining hours after accounting for full days then prints"
      ]
    },
    {
      "cell_type": "code",
      "execution_count": null,
      "id": "64dac05b-d423-448f-8369-6f0f6b0cb9c3",
      "metadata": {
        "id": "64dac05b-d423-448f-8369-6f0f6b0cb9c3"
      },
      "outputs": [],
      "source": []
    },
    {
      "cell_type": "code",
      "execution_count": null,
      "id": "6b8c21b4-3a09-435d-a36c-0bde2fea31ad",
      "metadata": {
        "id": "6b8c21b4-3a09-435d-a36c-0bde2fea31ad"
      },
      "outputs": [],
      "source": [
        "eggs = 45 # Number of eggs\n",
        "\n",
        "if eggs >= 12: # Check if nunber of eggs are 12 or more\n",
        "    print(eggs // 12, 'dozen') # Calculates number of dozen in 45 eggs and prints it\n",
        "\n",
        "print('plus', eggs - (eggs // 12) * 12)"
      ]
    },
    {
      "cell_type": "code",
      "execution_count": null,
      "id": "23dee90b-6807-4ca7-8a3b-77a58c21217f",
      "metadata": {
        "id": "23dee90b-6807-4ca7-8a3b-77a58c21217f"
      },
      "outputs": [],
      "source": []
    },
    {
      "cell_type": "markdown",
      "id": "b0196bce-78f4-489f-8209-0e4d0eb601b9",
      "metadata": {
        "id": "b0196bce-78f4-489f-8209-0e4d0eb601b9"
      },
      "source": [
        "### Exercise 5: if statements\n",
        "1. Turn the following English description of a problem (steps) into pseudocode. Not that where you see \"find out\" below, you can either assume the value will be in a variable, or you can get input from the user. Remember this is pseudocode you are writing, so even though we haven't learned how to get input from the user, you could specify that action in your pseudocode.\n",
        "\n",
        "    1. find out how many people are in their party\n",
        "    1. find out the start time of the movie they want to see\n",
        "    1. find out how many seniors (62+) are in their party\n",
        "    1. find out how many students are in their party\n",
        "    1. the price of their tickets will be \\\\$10 each for movies that start after 4:30 pm and \\\\$7.50 for movies that start before 4:30 pm\n",
        "    1. seniors (62+) receive a 50% discount on the ticket price\n",
        "    1. students received a 25% discount on the ticket price\n",
        "    1. a group of 10+ paid at the same time saves \\\\$1 per ticket, on top of any other discounts\n",
        "\n",
        "1. Now turn your pseudocode into working Python code. Again, we haven't learned how to get input from the user but could also look it up or you could set variables with various values and ensure the result is correct."
      ]
    },
    {
      "cell_type": "code",
      "execution_count": null,
      "id": "c6738a10-12ad-410a-8b16-b1b8a517cece",
      "metadata": {
        "id": "c6738a10-12ad-410a-8b16-b1b8a517cece"
      },
      "outputs": [],
      "source": []
    }
  ],
  "metadata": {
    "kernelspec": {
      "display_name": "Python 3 (ipykernel)",
      "language": "python",
      "name": "python3"
    },
    "language_info": {
      "codemirror_mode": {
        "name": "ipython",
        "version": 3
      },
      "file_extension": ".py",
      "mimetype": "text/x-python",
      "name": "python",
      "nbconvert_exporter": "python",
      "pygments_lexer": "ipython3",
      "version": "3.13.1"
    },
    "colab": {
      "provenance": []
    }
  },
  "nbformat": 4,
  "nbformat_minor": 5
}